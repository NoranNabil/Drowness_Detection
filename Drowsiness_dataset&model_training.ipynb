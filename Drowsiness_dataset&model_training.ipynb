{
  "nbformat": 4,
  "nbformat_minor": 0,
  "metadata": {
    "colab": {
      "provenance": [],
      "gpuType": "T4"
    },
    "kernelspec": {
      "name": "python3",
      "display_name": "Python 3"
    },
    "language_info": {
      "name": "python"
    },
    "accelerator": "GPU"
  },
  "cells": [
    {
      "cell_type": "code",
      "source": [
        "import matplotlib.pyplot as plt\n",
        "import matplotlib.image as mpimg\n",
        "import tensorflow as tf\n",
        "import os\n",
        "import cv2\n",
        "from PIL import Image\n",
        "import numpy as np\n",
        "from sklearn import preprocessing\n",
        "from sklearn.model_selection import train_test_split\n",
        "from keras.models import Sequential\n",
        "from keras.layers import Convolution2D, Dropout, Dense,MaxPooling2D,GlobalAveragePooling2D\n",
        "from keras.layers import BatchNormalization\n",
        "from keras.layers import MaxPooling2D\n",
        "from keras.layers import Flatten"
      ],
      "metadata": {
        "id": "cKKFxvULR2nV"
      },
      "execution_count": null,
      "outputs": []
    },
    {
      "cell_type": "markdown",
      "source": [
        "## **Data Read**"
      ],
      "metadata": {
        "id": "J2wbntqS_h7A"
      }
    },
    {
      "cell_type": "code",
      "source": [
        "!pip install opendatasets\n",
        "!pip install pandas"
      ],
      "metadata": {
        "id": "47vQVnpvMTnb"
      },
      "execution_count": null,
      "outputs": []
    },
    {
      "cell_type": "code",
      "source": [
        "import opendatasets as od\n",
        "import pandas as pd\n",
        "\n",
        "od.download(\"https://www.kaggle.com/datasets/norannabil/drowness-detection\")"
      ],
      "metadata": {
        "id": "0s6oO28CMkWk"
      },
      "execution_count": null,
      "outputs": []
    },
    {
      "cell_type": "code",
      "source": [
        "dataset=[]\n",
        "label=[]\n",
        "SIZE=224\n",
        "\n",
        "sleep= os.listdir('/content/drowness-detection/data_cropped/Sleep/')\n",
        "for i, image_name in enumerate(sleep):\n",
        "\n",
        "        image = cv2.imread('/content/drowness-detection/data_cropped/Sleep/' + image_name)\n",
        "        image = Image.fromarray(image, 'RGB')\n",
        "        image = image.resize((SIZE, SIZE))\n",
        "        dataset.append(np.array(image))\n",
        "        label.append(1)\n"
      ],
      "metadata": {
        "id": "YL9Xhf67RoWP"
      },
      "execution_count": null,
      "outputs": []
    },
    {
      "cell_type": "code",
      "source": [
        "len(label)"
      ],
      "metadata": {
        "id": "U1RlaTqQhss_"
      },
      "execution_count": null,
      "outputs": []
    },
    {
      "cell_type": "code",
      "source": [
        "active= os.listdir(\"/content/drowness-detection/data_cropped/Active/\")\n",
        "for i, image_name in enumerate(active):\n",
        "        image = cv2.imread('/content/drowness-detection/data_cropped/Active/' + image_name)\n",
        "        image = Image.fromarray(image, 'RGB')\n",
        "        image = image.resize((SIZE, SIZE))\n",
        "        dataset.append(np.array(image))\n",
        "        label.append(0)\n",
        "\n"
      ],
      "metadata": {
        "id": "nsGWuj9lXl3c"
      },
      "execution_count": null,
      "outputs": []
    },
    {
      "cell_type": "code",
      "source": [
        "len(label)"
      ],
      "metadata": {
        "id": "mPm10MTbkVik"
      },
      "execution_count": null,
      "outputs": []
    },
    {
      "cell_type": "code",
      "source": [
        "yawn= os.listdir(\"/content/drowness-detection/data_cropped/Yawn/\")\n",
        "for i, image_name in enumerate(yawn):\n",
        "        image = cv2.imread('/content/drowness-detection/data_cropped/Yawn/' + image_name)\n",
        "        image = Image.fromarray(image, 'RGB')\n",
        "        image = image.resize((SIZE, SIZE))\n",
        "        dataset.append(np.array(image))\n",
        "        label.append(2)"
      ],
      "metadata": {
        "id": "34teBMtHZirV"
      },
      "execution_count": null,
      "outputs": []
    },
    {
      "cell_type": "code",
      "source": [
        "len(label)"
      ],
      "metadata": {
        "id": "QNOr1KehkWql"
      },
      "execution_count": null,
      "outputs": []
    },
    {
      "cell_type": "code",
      "source": [
        "dataset = np.array(dataset)\n",
        "label = np.array(label)"
      ],
      "metadata": {
        "id": "9_4MxIPHaiZc"
      },
      "execution_count": null,
      "outputs": []
    },
    {
      "cell_type": "code",
      "source": [
        "dataset.shape,label.shape"
      ],
      "metadata": {
        "id": "OBn8mqhc04Ly"
      },
      "execution_count": null,
      "outputs": []
    },
    {
      "cell_type": "markdown",
      "source": [
        "# **Train Valid Test split**"
      ],
      "metadata": {
        "id": "7PXI07aa_rIL"
      }
    },
    {
      "cell_type": "code",
      "source": [
        "from sklearn.model_selection import train_test_split\n",
        "\n",
        "\n",
        "X_train, X_test, y_train, y_test = train_test_split(dataset, label, test_size = 0.25, random_state = 42)\n",
        "X_val, X_test, y_val, y_test = train_test_split(X_test, y_test, test_size = 0.25, random_state = 42)"
      ],
      "metadata": {
        "id": "LtlioISebPhd"
      },
      "execution_count": null,
      "outputs": []
    },
    {
      "cell_type": "code",
      "source": [
        "X_train.shape, X_test.shape, y_train.shape, y_test.shape,X_val.shape, y_val.shape,"
      ],
      "metadata": {
        "id": "h_wPDT2S3xQy"
      },
      "execution_count": null,
      "outputs": []
    },
    {
      "cell_type": "markdown",
      "source": [
        "# **Model and Training**"
      ],
      "metadata": {
        "id": "DpuOvNyy_9iV"
      }
    },
    {
      "cell_type": "code",
      "source": [
        "from keras.applications import VGG16\n",
        "VGG16_model = Sequential()\n",
        "\n",
        "prdeletrained_mo= tf.keras.applications.VGG16(include_top=False,\n",
        "                   input_shape=(224,224,3),\n",
        "                   pooling='avg',classes=3,\n",
        "                   weights='imagenet')\n",
        "for layer in prdeletrained_mo.layers:\n",
        "        layer.trainable=False\n",
        "\n",
        "VGG16_model.add(prdeletrained_mo)\n",
        "VGG16_model.add(Flatten())\n",
        "VGG16_model.add(Dense(512, activation='relu'))\n",
        "VGG16_model.add(Dense(512, activation='relu'))\n",
        "VGG16_model.add(Dropout(0.4))\n",
        "VGG16_model.add(Dense(3, activation='softmax'))"
      ],
      "metadata": {
        "id": "OMFPiPNg6MLF"
      },
      "execution_count": null,
      "outputs": []
    },
    {
      "cell_type": "code",
      "source": [
        "VGG16_model.summary()"
      ],
      "metadata": {
        "id": "0Vc3gIqVb7Yf",
        "colab": {
          "base_uri": "https://localhost:8080/"
        },
        "outputId": "459cb97d-5431-4130-c8b4-58b7110f7f89"
      },
      "execution_count": null,
      "outputs": [
        {
          "output_type": "stream",
          "name": "stdout",
          "text": [
            "Model: \"sequential\"\n",
            "_________________________________________________________________\n",
            " Layer (type)                Output Shape              Param #   \n",
            "=================================================================\n",
            " vgg16 (Functional)          (None, 512)               14714688  \n",
            "                                                                 \n",
            " flatten (Flatten)           (None, 512)               0         \n",
            "                                                                 \n",
            " dense (Dense)               (None, 512)               262656    \n",
            "                                                                 \n",
            " dense_1 (Dense)             (None, 512)               262656    \n",
            "                                                                 \n",
            " dropout (Dropout)           (None, 512)               0         \n",
            "                                                                 \n",
            " dense_2 (Dense)             (None, 3)                 1539      \n",
            "                                                                 \n",
            "=================================================================\n",
            "Total params: 15,241,539\n",
            "Trainable params: 526,851\n",
            "Non-trainable params: 14,714,688\n",
            "_________________________________________________________________\n"
          ]
        }
      ]
    },
    {
      "cell_type": "code",
      "source": [
        "VGG16_model.compile(optimizer='adam',loss='sparse_categorical_crossentropy',metrics=['accuracy'])"
      ],
      "metadata": {
        "id": "db6PVDoDb_xU"
      },
      "execution_count": null,
      "outputs": []
    },
    {
      "cell_type": "code",
      "source": [
        "from tensorflow.keras.models import Model\n",
        "history = VGG16_model.fit(X_train,\n",
        "                         y_train,\n",
        "                         batch_size = 32,\n",
        "                         verbose = 2,\n",
        "                         epochs = 30,\n",
        "                         validation_data=(X_val,y_val),\n",
        "                         shuffle = False\n",
        "                     )"
      ],
      "metadata": {
        "id": "7gJOAJ34cDBI"
      },
      "execution_count": null,
      "outputs": []
    },
    {
      "cell_type": "code",
      "source": [
        "from sklearn import metrics"
      ],
      "metadata": {
        "id": "EjX6XG5_cWkw"
      },
      "execution_count": null,
      "outputs": []
    },
    {
      "cell_type": "code",
      "source": [
        "VGG16_model.save('/content/drive/MyDrive/ai-iot-project/ai/weights/Vgg16_cropped_AUG_final.h5') ### Replace with path to save the model weights"
      ],
      "metadata": {
        "id": "3raPLA1xcl7s"
      },
      "execution_count": null,
      "outputs": []
    },
    {
      "cell_type": "code",
      "source": [
        "y_pred =VGG16_model.predict(X_test)"
      ],
      "metadata": {
        "id": "oI2mmKdRdB-8"
      },
      "execution_count": null,
      "outputs": []
    },
    {
      "cell_type": "code",
      "source": [
        "y_pred =[np.argmax(pr) for pr in y_pred]"
      ],
      "metadata": {
        "id": "wFk3fg4FEDrK"
      },
      "execution_count": null,
      "outputs": []
    },
    {
      "cell_type": "code",
      "source": [
        "print(\"Test accuracy : \")\n",
        "print(metrics.accuracy_score(y_test, y_pred))"
      ],
      "metadata": {
        "id": "OHj3J0TqFM2n"
      },
      "execution_count": null,
      "outputs": []
    }
  ]
}
